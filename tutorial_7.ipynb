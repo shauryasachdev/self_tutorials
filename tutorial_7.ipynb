{
 "cells": [
  {
   "cell_type": "code",
   "execution_count": 1,
   "id": "b5cce786",
   "metadata": {},
   "outputs": [],
   "source": [
    "import numpy as np\n",
    "\n",
    "%matplotlib inline\n",
    "\n",
    "import matplotlib.pyplot as plt\n",
    "\n",
    "plt.style.use('../../solving_pde_mooc/notebooks/styles/mainstyle.use')"
   ]
  },
  {
   "cell_type": "code",
   "execution_count": 2,
   "id": "bb4d07ae",
   "metadata": {},
   "outputs": [],
   "source": [
    "a = [\n",
    "    'first',\n",
    "    'second',\n",
    "    'third'\n",
    "]"
   ]
  },
  {
   "cell_type": "code",
   "execution_count": 3,
   "id": "cf9d2ed3",
   "metadata": {},
   "outputs": [
    {
     "name": "stdout",
     "output_type": "stream",
     "text": [
      "index: -1, value: third\n",
      "index: -2, value: second\n",
      "index: -3, value: first\n"
     ]
    }
   ],
   "source": [
    "for i in range(-1,-4,-1):\n",
    "    print(f\"index: {i}, value: {a[i]}\")"
   ]
  },
  {
   "cell_type": "code",
   "execution_count": 4,
   "id": "7ee6dbcd",
   "metadata": {},
   "outputs": [],
   "source": [
    "large_sequence = [i for i in range(10**5)]"
   ]
  },
  {
   "cell_type": "code",
   "execution_count": 5,
   "id": "db92c4a3",
   "metadata": {},
   "outputs": [
    {
     "name": "stdout",
     "output_type": "stream",
     "text": [
      "5.98 ms ± 51 µs per loop (mean ± std. dev. of 7 runs, 100 loops each)\n"
     ]
    }
   ],
   "source": [
    "%%timeit\n",
    "\n",
    "i_was_filled_in_loop = []\n",
    "\n",
    "for i in range(5,99995):                        # goes from start=5 to stop-1=99995-1=99994\n",
    "    i_was_filled_in_loop.append(large_sequence[i])"
   ]
  },
  {
   "cell_type": "code",
   "execution_count": 6,
   "id": "6ca75e20",
   "metadata": {},
   "outputs": [
    {
     "name": "stdout",
     "output_type": "stream",
     "text": [
      "207 µs ± 3.21 µs per loop (mean ± std. dev. of 7 runs, 1000 loops each)\n"
     ]
    }
   ],
   "source": [
    "%timeit slice_of_it=large_sequence[5:99995]    # will extract elements from sequence[5] to sequence[99994]"
   ]
  },
  {
   "cell_type": "code",
   "execution_count": 7,
   "id": "a1033a17",
   "metadata": {},
   "outputs": [
    {
     "name": "stdout",
     "output_type": "stream",
     "text": [
      "211 µs ± 8.2 µs per loop (mean ± std. dev. of 7 runs, 1000 loops each)\n"
     ]
    }
   ],
   "source": [
    "%timeit slice_of_it=large_sequence[5:-5]       # will extract elements from sequence[5] to sequence[10**5-5-1]=sequence[99994]"
   ]
  },
  {
   "cell_type": "code",
   "execution_count": 8,
   "id": "f601d370",
   "metadata": {},
   "outputs": [
    {
     "name": "stdout",
     "output_type": "stream",
     "text": [
      "['first', 'second', 'third', 'fourth', 'fifth', 'sixth']\n"
     ]
    }
   ],
   "source": [
    "a.extend(['fourth','fifth','sixth'])\n",
    "print(a)"
   ]
  },
  {
   "cell_type": "code",
   "execution_count": 9,
   "id": "5dacf917",
   "metadata": {},
   "outputs": [
    {
     "name": "stdout",
     "output_type": "stream",
     "text": [
      "['first', 'second', 'third']\n",
      "['first', 'second', 'third', 'fourth', 'fifth']\n"
     ]
    }
   ],
   "source": [
    "# slicing when start is omitted in sequence(start:stop:step)\n",
    "\n",
    "print(a[:3], a[:5], sep='\\n')"
   ]
  },
  {
   "cell_type": "code",
   "execution_count": 10,
   "id": "ee0eb375",
   "metadata": {},
   "outputs": [
    {
     "name": "stdout",
     "output_type": "stream",
     "text": [
      "['sixth', 'fifth']\n"
     ]
    }
   ],
   "source": [
    "print(a[:-3:-1])"
   ]
  },
  {
   "cell_type": "code",
   "execution_count": 11,
   "id": "489f20b6",
   "metadata": {},
   "outputs": [
    {
     "name": "stdout",
     "output_type": "stream",
     "text": [
      "['sixth', 'fifth']\n",
      "['sixth', 'fifth']\n"
     ]
    }
   ],
   "source": [
    "print(a[5:-3:-1],a[-1:-3:-1],sep='\\n')"
   ]
  },
  {
   "cell_type": "code",
   "execution_count": 12,
   "id": "e8eca018",
   "metadata": {},
   "outputs": [
    {
     "name": "stdout",
     "output_type": "stream",
     "text": [
      "['third', 'fourth', 'fifth', 'sixth']\n",
      "['sixth']\n",
      "['fifth', 'fourth', 'third', 'second', 'first']\n"
     ]
    }
   ],
   "source": [
    "# slicing when stop is omitted in sequence(start:stop:step)\n",
    "# if you want to include the last element of the sequence, then do not specify stop\n",
    "\n",
    "print(a[2:], a[5:], a[4::-1], sep='\\n')"
   ]
  },
  {
   "cell_type": "code",
   "execution_count": 13,
   "id": "a22ac110",
   "metadata": {},
   "outputs": [
    {
     "name": "stdout",
     "output_type": "stream",
     "text": [
      "['first', 'second', 'third', 'fourth', 'fifth', 'sixth']\n",
      "['first', 'third', 'fifth']\n",
      "['sixth', 'fifth', 'fourth', 'third', 'second', 'first']\n"
     ]
    }
   ],
   "source": [
    "# slicing when start and stop are omitted\n",
    "\n",
    "print(a[:], a[::2], a[::-1], sep='\\n')"
   ]
  },
  {
   "cell_type": "code",
   "execution_count": 14,
   "id": "bb8b6e2e",
   "metadata": {},
   "outputs": [
    {
     "name": "stdout",
     "output_type": "stream",
     "text": [
      "['first', 'second', 'third', 'fourth', 'fifth', 'sixth']\n",
      "['sixth', 'fifth', 'fourth', 'third', 'second', 'first']\n"
     ]
    }
   ],
   "source": [
    "# when i,j is greater than length(sequence)\n",
    "# it prints the entire sequence\n",
    "\n",
    "print(a[:1000], a[350::-1], sep='\\n')"
   ]
  },
  {
   "cell_type": "code",
   "execution_count": 15,
   "id": "fa740f41",
   "metadata": {},
   "outputs": [
    {
     "name": "stdout",
     "output_type": "stream",
     "text": [
      "[]\n",
      "[]\n",
      "[]\n"
     ]
    }
   ],
   "source": [
    "# when i>=j and step>0 or when j>=i and step<0, the list is empty\n",
    "\n",
    "print(a[10:1:1], a[3:4:-1], a[3:3], sep='\\n')"
   ]
  }
 ],
 "metadata": {
  "kernelspec": {
   "display_name": "Python 3 (ipykernel)",
   "language": "python",
   "name": "python3"
  },
  "language_info": {
   "codemirror_mode": {
    "name": "ipython",
    "version": 3
   },
   "file_extension": ".py",
   "mimetype": "text/x-python",
   "name": "python",
   "nbconvert_exporter": "python",
   "pygments_lexer": "ipython3",
   "version": "3.9.7"
  },
  "latex_envs": {
   "LaTeX_envs_menu_present": true,
   "autoclose": false,
   "autocomplete": true,
   "bibliofile": "biblio.bib",
   "cite_by": "apalike",
   "current_citInitial": 1,
   "eqLabelWithNumbers": true,
   "eqNumInitial": 1,
   "hotkeys": {
    "equation": "Ctrl-E",
    "itemize": "Ctrl-I"
   },
   "labels_anchors": false,
   "latex_user_defs": false,
   "report_style_numbering": false,
   "user_envs_cfg": false
  },
  "toc": {
   "base_numbering": 1,
   "nav_menu": {},
   "number_sections": true,
   "sideBar": true,
   "skip_h1_title": false,
   "title_cell": "Table of Contents",
   "title_sidebar": "Contents",
   "toc_cell": false,
   "toc_position": {},
   "toc_section_display": true,
   "toc_window_display": false
  }
 },
 "nbformat": 4,
 "nbformat_minor": 5
}
