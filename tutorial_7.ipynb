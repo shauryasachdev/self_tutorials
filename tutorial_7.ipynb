{
 "cells": [
  {
   "cell_type": "code",
   "execution_count": 2,
   "id": "b5cce786",
   "metadata": {},
   "outputs": [],
   "source": [
    "import numpy as np\n",
    "\n",
    "%matplotlib inline\n",
    "\n",
    "import matplotlib.pyplot as plt\n",
    "\n",
    "plt.style.use('../../solving_pde_mooc/notebooks/styles/mainstyle.use')"
   ]
  },
  {
   "cell_type": "code",
   "execution_count": 27,
   "id": "bb4d07ae",
   "metadata": {},
   "outputs": [],
   "source": [
    "a = [\n",
    "    'first', \n",
    "    'second',\n",
    "    'third'\n",
    "]\n"
   ]
  },
  {
   "cell_type": "code",
   "execution_count": 9,
   "id": "cf9d2ed3",
   "metadata": {},
   "outputs": [
    {
     "name": "stdout",
     "output_type": "stream",
     "text": [
      "index:-1, value: third\n",
      "index:-2, value: second\n",
      "index:-3, value: first\n"
     ]
    }
   ],
   "source": [
    "for i in range(-1,-4,-1):\n",
    "    print(f\"index:{i}, value: {a[i]}\")"
   ]
  },
  {
   "cell_type": "code",
   "execution_count": 11,
   "id": "7ee6dbcd",
   "metadata": {},
   "outputs": [],
   "source": [
    "large_sequence = [i for i in range(10**5)]"
   ]
  },
  {
   "cell_type": "code",
   "execution_count": 14,
   "id": "db92c4a3",
   "metadata": {},
   "outputs": [
    {
     "name": "stdout",
     "output_type": "stream",
     "text": [
      "6.43 ms ± 65.4 µs per loop (mean ± std. dev. of 7 runs, 100 loops each)\n"
     ]
    }
   ],
   "source": [
    "%%timeit\n",
    "i_was_filled_in_loop = []\n",
    "\n",
    "for i in range(5,99995):\n",
    "    i_was_filled_in_loop.append(large_sequence[i])"
   ]
  },
  {
   "cell_type": "code",
   "execution_count": 18,
   "id": "6ca75e20",
   "metadata": {},
   "outputs": [
    {
     "name": "stdout",
     "output_type": "stream",
     "text": [
      "205 µs ± 474 ns per loop (mean ± std. dev. of 7 runs, 1000 loops each)\n"
     ]
    }
   ],
   "source": [
    "%timeit slice_of_it=large_sequence[5:99995]"
   ]
  },
  {
   "cell_type": "code",
   "execution_count": 21,
   "id": "a1033a17",
   "metadata": {},
   "outputs": [
    {
     "name": "stdout",
     "output_type": "stream",
     "text": [
      "206 µs ± 1.89 µs per loop (mean ± std. dev. of 7 runs, 1000 loops each)\n"
     ]
    }
   ],
   "source": [
    "%timeit slice_of_itt=large_sequence[5:-5]"
   ]
  },
  {
   "cell_type": "code",
   "execution_count": 31,
   "id": "f601d370",
   "metadata": {},
   "outputs": [
    {
     "name": "stdout",
     "output_type": "stream",
     "text": [
      "['first', 'second', 'third', 'fourth', 'fifth', 'sixth']\n"
     ]
    }
   ],
   "source": [
    "# list.append() - adds an item to the end of list\n",
    "# list.extend() - expects a sequence as an argument and appends all its elements one by one\n",
    "a.extend(['fourth','fifth','sixth'])\n",
    "print(a)"
   ]
  },
  {
   "cell_type": "code",
   "execution_count": 44,
   "id": "5dacf917",
   "metadata": {},
   "outputs": [
    {
     "name": "stdout",
     "output_type": "stream",
     "text": [
      "['first', 'second', 'third']\n",
      "['first', 'second', 'third', 'fourth']\n"
     ]
    }
   ],
   "source": [
    "# when start is omitted, the default is 0\n",
    "# sequence[:n] is equivalent to extracting the first n elements of the list\n",
    "print(a[:3],a[:4],sep='\\n')"
   ]
  },
  {
   "cell_type": "code",
   "execution_count": 41,
   "id": "ee0eb375",
   "metadata": {},
   "outputs": [
    {
     "name": "stdout",
     "output_type": "stream",
     "text": [
      "['sixth', 'fifth']\n"
     ]
    }
   ],
   "source": [
    "print(a[:-3:-1])"
   ]
  },
  {
   "cell_type": "code",
   "execution_count": 42,
   "id": "489f20b6",
   "metadata": {},
   "outputs": [
    {
     "name": "stdout",
     "output_type": "stream",
     "text": [
      "['sixth', 'fifth']\n"
     ]
    }
   ],
   "source": [
    "print(a[5:-3:-1])"
   ]
  },
  {
   "cell_type": "code",
   "execution_count": 45,
   "id": "e8eca018",
   "metadata": {},
   "outputs": [
    {
     "name": "stdout",
     "output_type": "stream",
     "text": [
      "['sixth', 'fifth']\n"
     ]
    }
   ],
   "source": [
    "print(a[-1:-3:-1])"
   ]
  },
  {
   "cell_type": "code",
   "execution_count": 47,
   "id": "a22ac110",
   "metadata": {},
   "outputs": [
    {
     "name": "stdout",
     "output_type": "stream",
     "text": [
      "['third', 'fifth']\n",
      "['sixth']\n",
      "['fifth', 'fourth', 'third', 'second', 'first']\n"
     ]
    }
   ],
   "source": [
    "print(a[2::2],a[5:],a[4::-1],sep='\\n')"
   ]
  }
 ],
 "metadata": {
  "kernelspec": {
   "display_name": "Python 3 (ipykernel)",
   "language": "python",
   "name": "python3"
  },
  "language_info": {
   "codemirror_mode": {
    "name": "ipython",
    "version": 3
   },
   "file_extension": ".py",
   "mimetype": "text/x-python",
   "name": "python",
   "nbconvert_exporter": "python",
   "pygments_lexer": "ipython3",
   "version": "3.9.7"
  },
  "latex_envs": {
   "LaTeX_envs_menu_present": true,
   "autoclose": false,
   "autocomplete": true,
   "bibliofile": "biblio.bib",
   "cite_by": "apalike",
   "current_citInitial": 1,
   "eqLabelWithNumbers": true,
   "eqNumInitial": 1,
   "hotkeys": {
    "equation": "Ctrl-E",
    "itemize": "Ctrl-I"
   },
   "labels_anchors": false,
   "latex_user_defs": false,
   "report_style_numbering": false,
   "user_envs_cfg": false
  },
  "toc": {
   "base_numbering": 1,
   "nav_menu": {},
   "number_sections": true,
   "sideBar": true,
   "skip_h1_title": false,
   "title_cell": "Table of Contents",
   "title_sidebar": "Contents",
   "toc_cell": false,
   "toc_position": {},
   "toc_section_display": true,
   "toc_window_display": false
  }
 },
 "nbformat": 4,
 "nbformat_minor": 5
}
