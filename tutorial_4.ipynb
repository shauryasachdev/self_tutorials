{
 "cells": [
  {
   "cell_type": "code",
   "execution_count": 1,
   "id": "5860d7b9",
   "metadata": {},
   "outputs": [],
   "source": [
    "import numpy as np\n",
    "\n",
    "%matplotlib inline\n",
    "\n",
    "import matplotlib.pyplot as plt\n",
    "\n",
    "plt.style.use('../../solving_pde_mooc/notebooks/styles/mainstyle.use')"
   ]
  },
  {
   "cell_type": "code",
   "execution_count": 2,
   "id": "7e95fb31",
   "metadata": {},
   "outputs": [],
   "source": [
    "# parameters and initial conditions\n",
    "\n",
    "g = 9.81     # ms^-2 \n",
    "h0 = 100.    # intial height\n",
    "v0 = 0.      # initial velocity\n",
    "    \n",
    "ti = 0.      # initial time\n",
    "tf = 4.      # final time at which we want to seek solution\n",
    "dt = 0.1     # time step"
   ]
  },
  {
   "cell_type": "code",
   "execution_count": 3,
   "id": "eec4d4f4",
   "metadata": {},
   "outputs": [],
   "source": [
    "nt = int((tf-ti)/dt)\n",
    "\n",
    "# define the numpy array with nt+1 elements as we want to define solution at ti, tf and all intermediate points\n",
    "# this time we will define a 2D numpy array (but we will not call it a matrix -- why??)\n",
    "y = np.empty((nt+1,2)) # numpy.empty((no. of rows, no. of cols))\n",
    "\n",
    "# storing the initial condition\n",
    "# ideally, since y is a 2D array, you need to pass two integers so you need to define 2 indices\n",
    "# index of the row and index of the column\n",
    "# however, if you only pass one integer, it is considered the index of the row\n",
    "# and you get access to all the columns\n",
    "y[0] = h0, v0\n",
    "\n",
    "# creating the array vector b\n",
    "b = np.array([0., -g])\n",
    "\n",
    "# creating the array L\n",
    "L = np.array([[0.,1.],[0.,0.]])\n",
    "\n",
    "# the default type of values in numpy array is double\n",
    "# even if we pass integer, it will considered as double\n",
    "# we have still passed it as double to be explicit\n",
    "\n",
    "# note that we have created the array vector b and array L above\n",
    "# before that, I created a 2 D array y\n",
    "# both are arrays\n",
    "\n",
    "# to create and array with defined values - \n",
    "# numpy.array([[row1col1 val, row1col2 val,...], [row2col1 val, row2col2 val ...], ...,])\n",
    "\n",
    "# to create array with defined no. of rows and no. of cols. and initialize where we don't know the values\n",
    "# numpy.empty((no. of rows, no. of cols))\n",
    "\n",
    "for i in range(nt):\n",
    "    y[i+1] = y[i] + np.dot(L,y[i])*dt + b*dt\n",
    "    \n",
    "    # remember we are only passing one index, which is considered as row index\n",
    "    # by doing so, we are accessing all columns at once"
   ]
  },
  {
   "cell_type": "code",
   "execution_count": 4,
   "id": "41ec5276",
   "metadata": {},
   "outputs": [],
   "source": [
    "t = np.arange(nt+1)*dt\n"
   ]
  },
  {
   "cell_type": "code",
   "execution_count": 5,
   "id": "9e3ebacd",
   "metadata": {},
   "outputs": [
    {
     "data": {
      "text/plain": [
       "Text(0.5, 1.0, 'Height vs time (m)')"
      ]
     },
     "execution_count": 5,
     "metadata": {},
     "output_type": "execute_result"
    },
    {
     "data": {
      "image/png": "[encoded data removed]",
      "text/plain": [
       "<Figure size 648x288 with 2 Axes>"
      ]
     },
     "metadata": {
      "needs_background": "light"
     },
     "output_type": "display_data"
    }
   ],
   "source": [
    "fig, ax = plt.subplots(1,2, figsize=(9,4))\n",
    "\n",
    "ax[0].plot(t,y[:,1],'-k',lw=0.8)\n",
    "ax[0].set_xlim(t[0],t[-1])\n",
    "ax[0].set_xlabel('$t$')\n",
    "ax[0].set_ylabel('$v$')\n",
    "ax[0].set_title('Speed vs time (m/s)')\n",
    "\n",
    "ax[1].plot(t,y[:,0],'-k',lw=0.8)\n",
    "ax[1].set_xlim(t[0],t[-1])\n",
    "ax[1].set_xlabel('$t$')\n",
    "ax[1].set_ylabel('$h$')\n",
    "ax[1].set_title('Height vs time (m)')"
   ]
  }
 ],
 "metadata": {
  "kernelspec": {
   "display_name": "Python 3 (ipykernel)",
   "language": "python",
   "name": "python3"
  },
  "language_info": {
   "codemirror_mode": {
    "name": "ipython",
    "version": 3
   },
   "file_extension": ".py",
   "mimetype": "text/x-python",
   "name": "python",
   "nbconvert_exporter": "python",
   "pygments_lexer": "ipython3",
   "version": "3.9.7"
  },
  "latex_envs": {
   "LaTeX_envs_menu_present": true,
   "autoclose": false,
   "autocomplete": true,
   "bibliofile": "biblio.bib",
   "cite_by": "apalike",
   "current_citInitial": 1,
   "eqLabelWithNumbers": true,
   "eqNumInitial": 1,
   "hotkeys": {
    "equation": "Ctrl-E",
    "itemize": "Ctrl-I"
   },
   "labels_anchors": false,
   "latex_user_defs": false,
   "report_style_numbering": false,
   "user_envs_cfg": false
  },
  "toc": {
   "base_numbering": 1,
   "nav_menu": {},
   "number_sections": true,
   "sideBar": true,
   "skip_h1_title": false,
   "title_cell": "Table of Contents",
   "title_sidebar": "Contents",
   "toc_cell": false,
   "toc_position": {},
   "toc_section_display": true,
   "toc_window_display": false
  }
 },
 "nbformat": 4,
 "nbformat_minor": 5
}
