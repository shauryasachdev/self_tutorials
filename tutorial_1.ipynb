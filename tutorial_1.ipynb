{
 "cells": [
  {
   "cell_type": "code",
   "execution_count": 2,
   "id": "7940281f",
   "metadata": {},
   "outputs": [
    {
     "name": "stdout",
     "output_type": "stream",
     "text": [
      "Hello World\n"
     ]
    }
   ],
   "source": [
    "print('Hello World')"
   ]
  },
  {
   "cell_type": "code",
   "execution_count": 4,
   "id": "3d2c18d4",
   "metadata": {},
   "outputs": [],
   "source": [
    "import numpy"
   ]
  },
  {
   "cell_type": "code",
   "execution_count": 7,
   "id": "f1139f78",
   "metadata": {},
   "outputs": [
    {
     "name": "stdout",
     "output_type": "stream",
     "text": [
      "3.141592653589793\n"
     ]
    }
   ],
   "source": [
    "print(numpy.pi)"
   ]
  },
  {
   "cell_type": "code",
   "execution_count": 8,
   "id": "08625097",
   "metadata": {},
   "outputs": [],
   "source": [
    "import numpy as np"
   ]
  },
  {
   "cell_type": "code",
   "execution_count": 9,
   "id": "98c9ff1b",
   "metadata": {},
   "outputs": [
    {
     "name": "stdout",
     "output_type": "stream",
     "text": [
      "3.141592653589793\n"
     ]
    }
   ],
   "source": [
    "print(np.pi)"
   ]
  },
  {
   "cell_type": "code",
   "execution_count": 10,
   "id": "63c65e34",
   "metadata": {},
   "outputs": [],
   "source": [
    "import numpy as np"
   ]
  },
  {
   "cell_type": "code",
   "execution_count": 13,
   "id": "b8a2f65c",
   "metadata": {},
   "outputs": [],
   "source": [
    "import numpy as np\n",
    "import matplotlib.pyplot as plt"
   ]
  },
  {
   "cell_type": "code",
   "execution_count": 15,
   "id": "923eb8af",
   "metadata": {},
   "outputs": [],
   "source": [
    "%pinfo print"
   ]
  },
  {
   "cell_type": "code",
   "execution_count": 17,
   "id": "c08d123b",
   "metadata": {},
   "outputs": [],
   "source": [
    "%matplotlib inline"
   ]
  },
  {
   "cell_type": "code",
   "execution_count": 21,
   "id": "f99e0c53",
   "metadata": {},
   "outputs": [],
   "source": [
    "plt.style.use('../../solving_pde_mooc/notebooks/styles/mainstyle.use')"
   ]
  },
  {
   "cell_type": "code",
   "execution_count": 67,
   "id": "90085ef7",
   "metadata": {},
   "outputs": [
    {
     "name": "stdout",
     "output_type": "stream",
     "text": [
      "\n",
      "\n",
      "[0.5, 0.25, 0.125, 0.0625, 0.03125, 0.015625, 0.0078125, 0.00390625, 0.001953125]\n",
      "\n",
      "\n",
      "[0.5, 0.25, 0.125, 0.0625, 0.03125, 0.015625, 0.0078125, 0.00390625, 0.001953125]\n",
      "\n",
      "\n",
      "[0.5        0.25       0.125      0.0625     0.03125    0.015625\n",
      " 0.0078125  0.00390625 0.00195312]\n"
     ]
    }
   ],
   "source": [
    "#create an empty python list that will create values of delta for all k\n",
    "delta_list = []\n",
    "delta_list_2 = []\n",
    "\n",
    "#we have to loop for k=1,2,3,4,5,6,7,8,9\n",
    "\n",
    "#we will use the range function range(min,max,step)\n",
    "#this creates values of min, min+1*step, min+2*step, ..., max-step\n",
    "#as you can see, max value is not (actually never!) included in the list\n",
    "\n",
    "#min and step are optional and if you don't input them, then default values will be used\n",
    "#the default are min=0,step=1\n",
    "\n",
    "#range(5) will give 0,1,2,3,4 since it takes min=0, step=1 (default)\n",
    "#range(1,5) will give 1,2,3,4 since it takes min=1\n",
    "#range(2,5) will give 2,3,4\n",
    "#range(2,8,2) will give 2,4,6\n",
    "\n",
    "#once we have create the list of k, we have to create the delta_list\n",
    "#we can create the delta_list by adding/appending values to the end of the list each time\n",
    "#we can do that by using the append function as done below\n",
    "for k in range(1,10):\n",
    "    delta_list.append(2**(-k))\n",
    "    \n",
    "print('\\n')\n",
    "print(delta_list)\n",
    "\n",
    "#another way to create a list is to direcly add values to it\n",
    "delta_list_2 = [2**(-k) for k in range(1,10)]\n",
    "\n",
    "print('\\n')\n",
    "print(delta_list_2)\n",
    "\n",
    "#here a list is being created using the values and fuctions that we want\n",
    "#but to do operations on it, we need to create a numerical array out of it\n",
    "\n",
    "#np(Numpy) helps us create an array out of it as shown below\n",
    "delta = np.array(delta_list_2)\n",
    "\n",
    "print('\\n')\n",
    "print(delta)"
   ]
  },
  {
   "cell_type": "code",
   "execution_count": 76,
   "id": "46dfcc0d",
   "metadata": {},
   "outputs": [
    {
     "name": "stdout",
     "output_type": "stream",
     "text": [
      "2.71 µs ± 14.4 ns per loop (mean ± std. dev. of 7 runs, 100000 loops each)\n"
     ]
    }
   ],
   "source": [
    "%%timeit\n",
    "\n",
    "#method 1 - using append function\n",
    "\n",
    "#create an empty list first\n",
    "delta_list = []\n",
    "\n",
    "#append values to the list\n",
    "for k in range(1,10):\n",
    "    delta_list.append(2**(-k))\n",
    "\n",
    "#assign the list to an array using numpy\n",
    "delta = np.array(delta_list)\n"
   ]
  },
  {
   "cell_type": "code",
   "execution_count": 102,
   "id": "bc0a0260",
   "metadata": {},
   "outputs": [
    {
     "name": "stdout",
     "output_type": "stream",
     "text": [
      "0.001953125\n"
     ]
    }
   ],
   "source": [
    "#%%timeit\n",
    "\n",
    "#method 2 - directly adding values to the list\n",
    "\n",
    "#create an empty list first\n",
    "delta_list = []\n",
    "\n",
    "#directly add values to the list\n",
    "delta_list = [2**(-k) for k in range(1,10)]\n",
    "\n",
    "#assign the list to an array using numpy\n",
    "delta = np.array(delta_list)\n",
    "\n",
    "print(delta_list[8])"
   ]
  },
  {
   "cell_type": "code",
   "execution_count": 103,
   "id": "d2933c48",
   "metadata": {},
   "outputs": [
    {
     "name": "stdout",
     "output_type": "stream",
     "text": [
      "\n",
      "\n",
      "[0. 0. 0. 0. 0. 0. 0. 0. 0.]\n",
      "\n",
      "\n",
      "9\n",
      "\n",
      "\n",
      "0\n",
      "1\n",
      "2\n",
      "3\n",
      "4\n",
      "5\n",
      "6\n",
      "7\n",
      "8\n",
      "\n",
      "\n",
      "0.5\n",
      "\n",
      "\n",
      "0.001953125\n"
     ]
    }
   ],
   "source": [
    "#%%timeit\n",
    "\n",
    "#method 3 - directly create a numpy array\n",
    "\n",
    "#first create a numpy array with all zeros\n",
    "delta_array = np.zeros(9)\n",
    "\n",
    "print('\\n')\n",
    "print(delta_array)\n",
    "\n",
    "#this will create an array of 9 elements - indexing as 0,1,2,...,8\n",
    "#numpy array starts indexing from 0 and goest to N-1\n",
    "# var =np.zeros(9) \n",
    "#this will mean that the first element in the array will be var[0]\n",
    "#last element in the array will be var(8)\n",
    "\n",
    "print('\\n')\n",
    "print(len(delta))\n",
    "print('\\n')\n",
    "\n",
    "#fill the array\n",
    "#using len function, since i will start from zero\n",
    "#also, numpy array starts indexing from 0 to N-1\n",
    "for i in range(len(delta_array)):\n",
    "    print(i)\n",
    "    delta_array[i]=2**(-i-1)\n",
    "    \n",
    "print('\\n')\n",
    "print(delta_array[0])\n",
    "print('\\n')\n",
    "print(delta_array[8])"
   ]
  },
  {
   "cell_type": "code",
   "execution_count": 109,
   "id": "28f1eb4f",
   "metadata": {},
   "outputs": [
    {
     "name": "stdout",
     "output_type": "stream",
     "text": [
      "[0.5        0.25       0.125      0.0625     0.03125    0.015625\n",
      " 0.0078125  0.00390625 0.00195312]\n",
      "\n",
      "\n",
      "0.001953125\n"
     ]
    }
   ],
   "source": [
    "#the method I am most used to\n",
    "\n",
    "delta_array = np.zeros(9)\n",
    "\n",
    "for i in range(len(delta_array)):\n",
    "    delta_array[i]=2**(-i-1)\n",
    "    \n",
    "print(delta_array)\n",
    "print('\\n')\n",
    "print(delta_array[8])"
   ]
  }
 ],
 "metadata": {
  "kernelspec": {
   "display_name": "Python 3 (ipykernel)",
   "language": "python",
   "name": "python3"
  },
  "language_info": {
   "codemirror_mode": {
    "name": "ipython",
    "version": 3
   },
   "file_extension": ".py",
   "mimetype": "text/x-python",
   "name": "python",
   "nbconvert_exporter": "python",
   "pygments_lexer": "ipython3",
   "version": "3.9.7"
  },
  "latex_envs": {
   "LaTeX_envs_menu_present": true,
   "autoclose": false,
   "autocomplete": true,
   "bibliofile": "biblio.bib",
   "cite_by": "apalike",
   "current_citInitial": 1,
   "eqLabelWithNumbers": true,
   "eqNumInitial": 1,
   "hotkeys": {
    "equation": "Ctrl-E",
    "itemize": "Ctrl-I"
   },
   "labels_anchors": false,
   "latex_user_defs": false,
   "report_style_numbering": false,
   "user_envs_cfg": false
  },
  "toc": {
   "base_numbering": 1,
   "nav_menu": {},
   "number_sections": true,
   "sideBar": true,
   "skip_h1_title": false,
   "title_cell": "Table of Contents",
   "title_sidebar": "Contents",
   "toc_cell": false,
   "toc_position": {},
   "toc_section_display": true,
   "toc_window_display": false
  }
 },
 "nbformat": 4,
 "nbformat_minor": 5
}
