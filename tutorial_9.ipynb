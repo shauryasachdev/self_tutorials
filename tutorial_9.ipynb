{
 "cells": [
  {
   "cell_type": "code",
   "execution_count": 2,
   "id": "64f8879e",
   "metadata": {},
   "outputs": [],
   "source": [
    "import numpy as np\n",
    "\n",
    "%matplotlib inline\n",
    "\n",
    "import matplotlib.pyplot as plt\n",
    "\n",
    "plt.style.use('../../solving_pde_mooc/notebooks/styles/mainstyle.use')"
   ]
  },
  {
   "cell_type": "code",
   "execution_count": 3,
   "id": "c3d0d966",
   "metadata": {},
   "outputs": [],
   "source": [
    "def print_name_and_data(name, age, height, weight):\n",
    "    print(f'Hello, {name}. You are {age}, measure {height} m and weigh {weight} kg.')"
   ]
  },
  {
   "cell_type": "code",
   "execution_count": 4,
   "id": "f4aa89b2",
   "metadata": {},
   "outputs": [
    {
     "name": "stdout",
     "output_type": "stream",
     "text": [
      "Hello, Shaurya. You are 30, measure 1.8 m and weigh 80 kg.\n"
     ]
    }
   ],
   "source": [
    "print_name_and_data('Shaurya', 30, 1.80, 80)"
   ]
  },
  {
   "cell_type": "code",
   "execution_count": 5,
   "id": "6ae3005b",
   "metadata": {},
   "outputs": [
    {
     "ename": "TypeError",
     "evalue": "print_name_and_data() missing 3 required positional arguments: 'age', 'height', and 'weight'",
     "output_type": "error",
     "traceback": [
      "\u001b[1;31m---------------------------------------------------------------------------\u001b[0m",
      "\u001b[1;31mTypeError\u001b[0m                                 Traceback (most recent call last)",
      "\u001b[1;32m~\\AppData\\Local\\Temp/ipykernel_13104/1495475918.py\u001b[0m in \u001b[0;36m<module>\u001b[1;34m\u001b[0m\n\u001b[1;32m----> 1\u001b[1;33m \u001b[0mprint_name_and_data\u001b[0m\u001b[1;33m(\u001b[0m\u001b[1;34m'Luke'\u001b[0m\u001b[1;33m)\u001b[0m\u001b[1;33m\u001b[0m\u001b[1;33m\u001b[0m\u001b[0m\n\u001b[0m",
      "\u001b[1;31mTypeError\u001b[0m: print_name_and_data() missing 3 required positional arguments: 'age', 'height', and 'weight'"
     ]
    }
   ],
   "source": [
    "print_name_and_data('Luke')"
   ]
  },
  {
   "cell_type": "code",
   "execution_count": 6,
   "id": "e6eccc55",
   "metadata": {},
   "outputs": [
    {
     "name": "stdout",
     "output_type": "stream",
     "text": [
      "Hello, Luke. You are 28, measure 1.8 m and weigh 78 kg.\n"
     ]
    }
   ],
   "source": [
    "print_name_and_data('Luke',28,weight=78, height=1.8)"
   ]
  },
  {
   "cell_type": "code",
   "execution_count": 7,
   "id": "3ab1f772",
   "metadata": {},
   "outputs": [],
   "source": [
    "def print_name_and_handedness(name, handedness='right-handed'):\n",
    "    print(f'Hello, {name}. You are {handedness}.')"
   ]
  },
  {
   "cell_type": "code",
   "execution_count": 8,
   "id": "441ae458",
   "metadata": {},
   "outputs": [
    {
     "name": "stdout",
     "output_type": "stream",
     "text": [
      "Hello, Luke. You are right-handed.\n"
     ]
    }
   ],
   "source": [
    "print_name_and_handedness('Luke')"
   ]
  },
  {
   "cell_type": "code",
   "execution_count": 9,
   "id": "41f76360",
   "metadata": {},
   "outputs": [
    {
     "name": "stdout",
     "output_type": "stream",
     "text": [
      "Hello, Luke. You are left-handed.\n"
     ]
    }
   ],
   "source": [
    "print_name_and_handedness('Luke','left-handed')"
   ]
  },
  {
   "cell_type": "code",
   "execution_count": 10,
   "id": "33871625",
   "metadata": {},
   "outputs": [],
   "source": [
    "def compute_bmi(name, height, weight):\n",
    "    print(f'Hello, {name}. I am returning your body mass index...')\n",
    "    bmi = weight / height**2\n",
    "    return bmi"
   ]
  },
  {
   "cell_type": "code",
   "execution_count": 11,
   "id": "9a5f2fd9",
   "metadata": {},
   "outputs": [
    {
     "name": "stdout",
     "output_type": "stream",
     "text": [
      "Hello, Shaurya. I am returning your body mass index...\n",
      "23.839321144043222\n"
     ]
    }
   ],
   "source": [
    "shaurya_bmi = compute_bmi('Shaurya', 1.81, 78.1)\n",
    "print(shaurya_bmi)"
   ]
  },
  {
   "cell_type": "code",
   "execution_count": 12,
   "id": "ba0e2c53",
   "metadata": {},
   "outputs": [],
   "source": [
    "def compute_avg_diff(number_1, number_2):\n",
    "    average = 0.5 * (number_1+number_2)\n",
    "    difference = number_1 - number_2\n",
    "    \n",
    "    return average, difference"
   ]
  },
  {
   "cell_type": "code",
   "execution_count": 13,
   "id": "278d29df",
   "metadata": {},
   "outputs": [
    {
     "name": "stdout",
     "output_type": "stream",
     "text": [
      "The average is: 9.0 and the difference is 2.\n"
     ]
    }
   ],
   "source": [
    "avg1, diff1 = compute_avg_diff(10,8)\n",
    "print(f'The average is: {avg1} and the difference is {diff1}.')"
   ]
  },
  {
   "cell_type": "code",
   "execution_count": null,
   "id": "325ead55",
   "metadata": {},
   "outputs": [],
   "source": []
  }
 ],
 "metadata": {
  "kernelspec": {
   "display_name": "Python 3 (ipykernel)",
   "language": "python",
   "name": "python3"
  },
  "language_info": {
   "codemirror_mode": {
    "name": "ipython",
    "version": 3
   },
   "file_extension": ".py",
   "mimetype": "text/x-python",
   "name": "python",
   "nbconvert_exporter": "python",
   "pygments_lexer": "ipython3",
   "version": "3.9.7"
  },
  "latex_envs": {
   "LaTeX_envs_menu_present": true,
   "autoclose": false,
   "autocomplete": true,
   "bibliofile": "biblio.bib",
   "cite_by": "apalike",
   "current_citInitial": 1,
   "eqLabelWithNumbers": true,
   "eqNumInitial": 1,
   "hotkeys": {
    "equation": "Ctrl-E",
    "itemize": "Ctrl-I"
   },
   "labels_anchors": false,
   "latex_user_defs": false,
   "report_style_numbering": false,
   "user_envs_cfg": false
  },
  "toc": {
   "base_numbering": 1,
   "nav_menu": {},
   "number_sections": true,
   "sideBar": true,
   "skip_h1_title": false,
   "title_cell": "Table of Contents",
   "title_sidebar": "Contents",
   "toc_cell": false,
   "toc_position": {},
   "toc_section_display": true,
   "toc_window_display": false
  }
 },
 "nbformat": 4,
 "nbformat_minor": 5
}
