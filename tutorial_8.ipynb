{
 "cells": [
  {
   "cell_type": "code",
   "execution_count": 1,
   "id": "587afe8c",
   "metadata": {},
   "outputs": [],
   "source": [
    "import numpy as np\n",
    "\n",
    "%matplotlib inline\n",
    "\n",
    "import matplotlib.pyplot as plt\n",
    "\n",
    "plt.style.use('../../solving_pde_mooc/notebooks/styles/mainstyle.use')"
   ]
  },
  {
   "cell_type": "code",
   "execution_count": 2,
   "id": "8c5dd7b8",
   "metadata": {},
   "outputs": [],
   "source": [
    "a=1"
   ]
  },
  {
   "cell_type": "code",
   "execution_count": 3,
   "id": "6ec2735e",
   "metadata": {},
   "outputs": [
    {
     "name": "stdout",
     "output_type": "stream",
     "text": [
      "Initial value of b: 1\n",
      "Value of b after re-assignment: 2\n",
      "Value of a after re-assignment: 1\n"
     ]
    }
   ],
   "source": [
    "a=1\n",
    "b=a\n",
    "\n",
    "print(f'Initial value of b: {b}')\n",
    "\n",
    "b=2\n",
    "\n",
    "print(f'Value of b after re-assignment: {b}')\n",
    "print(f'Value of a after re-assignment: {a}')"
   ]
  },
  {
   "cell_type": "code",
   "execution_count": 4,
   "id": "cb1ca1fd",
   "metadata": {},
   "outputs": [
    {
     "name": "stdout",
     "output_type": "stream",
     "text": [
      "Initial value of a: [0, 1, 2, 3]\n",
      "Initial value of b: [0, 1, 2, 3]\n",
      "\n",
      "\n",
      "1726461143312;1726461143344;1726461143376;1726461143408\n",
      "1726461143312;1726461143344;1726461143376;1726461143408\n",
      "\n",
      "\n",
      "Value of b after re-assignment: [0, 5, 2, 3]\n",
      "Value of a after re-assignment: [0, 5, 2, 3]\n",
      "\n",
      "\n",
      "1726461143312;1726461143472;1726461143376;1726461143408\n",
      "1726461143312;1726461143472;1726461143376;1726461143408\n"
     ]
    }
   ],
   "source": [
    "a=[0,1,2,3]\n",
    "b=a\n",
    "\n",
    "print(f'Initial value of a: {a}')\n",
    "print(f'Initial value of b: {b}')\n",
    "\n",
    "print('\\n')\n",
    "print(id(a[0]),id(a[1]),id(a[2]),id(a[3]),sep=';')\n",
    "print(id(b[0]),id(b[1]),id(b[2]),id(b[3]),sep=';')\n",
    "\n",
    "b[1]=5\n",
    "\n",
    "print('\\n')\n",
    "print(f'Value of b after re-assignment: {b}')\n",
    "print(f'Value of a after re-assignment: {a}')\n",
    "\n",
    "print('\\n')\n",
    "print(id(a[0]),id(a[1]),id(a[2]),id(a[3]),sep=';')\n",
    "print(id(b[0]),id(b[1]),id(b[2]),id(b[3]),sep=';')\n"
   ]
  },
  {
   "cell_type": "code",
   "execution_count": 5,
   "id": "d0e13a9a",
   "metadata": {},
   "outputs": [
    {
     "name": "stdout",
     "output_type": "stream",
     "text": [
      "Initial value of a: [0, 1, 2, 3]\n",
      "Initial value of b: [0, 1, 2, 3]\n",
      "\n",
      "\n",
      "1726461143312;1726461143344;1726461143376;1726461143408\n",
      "1726461143312;1726461143344;1726461143376;1726461143408\n",
      "\n",
      "\n",
      "Value of b after re-assignment: [0, 5, 2, 3]\n",
      "Value of a after re-assignment: [0, 1, 2, 3]\n",
      "\n",
      "\n",
      "1726461143312;1726461143344;1726461143376;1726461143408\n",
      "1726461143312;1726461143472;1726461143376;1726461143408\n"
     ]
    }
   ],
   "source": [
    "a=[0,1,2,3]\n",
    "b=a.copy()\n",
    "\n",
    "print(f'Initial value of a: {a}')\n",
    "print(f'Initial value of b: {b}')\n",
    "\n",
    "print('\\n')\n",
    "print(id(a[0]),id(a[1]),id(a[2]),id(a[3]),sep=';')\n",
    "print(id(b[0]),id(b[1]),id(b[2]),id(b[3]),sep=';')\n",
    "\n",
    "b[1]=5\n",
    "\n",
    "print('\\n')\n",
    "print(f'Value of b after re-assignment: {b}')\n",
    "print(f'Value of a after re-assignment: {a}')\n",
    "\n",
    "print('\\n')\n",
    "print(id(a[0]),id(a[1]),id(a[2]),id(a[3]),sep=';')\n",
    "print(id(b[0]),id(b[1]),id(b[2]),id(b[3]),sep=';')"
   ]
  },
  {
   "cell_type": "code",
   "execution_count": 9,
   "id": "79ee2d5e",
   "metadata": {},
   "outputs": [
    {
     "name": "stdout",
     "output_type": "stream",
     "text": [
      "original sequence: [0, 1, 2, 3] \n",
      "slice: [0, 1, 2, 3]\n",
      "\n",
      "original sequence: [999, 1, 2, 3] \n",
      "slice: [0, 1, 2, 3]\n",
      "\n",
      "original sequence: [999, 1, 2, 3] \n",
      "slice: [0, False, 2, 3]\n"
     ]
    }
   ],
   "source": [
    "original=a.copy()\n",
    "b=original[:]\n",
    "print('original sequence:', original, '\\nslice:', b)\n",
    "\n",
    "original[0]=999\n",
    "print('\\noriginal sequence:', original, '\\nslice:', b)\n",
    "\n",
    "b[1]=False\n",
    "print('\\noriginal sequence:', original, '\\nslice:', b)\n",
    "\n",
    "# you should be able to see that the changes made to original sequence are not reflected in slice\n",
    "# also, changes made to slice are not reflected in the original sequence"
   ]
  },
  {
   "cell_type": "code",
   "execution_count": 14,
   "id": "5acbac12",
   "metadata": {},
   "outputs": [
    {
     "name": "stdout",
     "output_type": "stream",
     "text": [
      "\n",
      "original sequence: [1, 2, 3, {'hello': 'world'}] \n",
      "slice: [1, 2, 3, {'hello': 'world'}]\n",
      "\n",
      "original sequence: [1, 2, 3, {'hello': 'world', 'bye': 'world'}] \n",
      "slice: [1, 2, 3, {'hello': 'world', 'bye': 'world'}]\n",
      "\n",
      "original sequence: [1, 2, 3, {'hello': 'world', 'bye': 'world'}] \n",
      "slice: [9999999, 2, 3, {'hello': 'world', 'bye': 'world'}]\n"
     ]
    }
   ],
   "source": [
    "i_have_nested_dict=[1,2,3,{'hello':'world'}]\n",
    "i_am_slice=i_have_nested_dict[:]\n",
    "print('\\noriginal sequence:', i_have_nested_dict, '\\nslice:', i_am_slice)\n",
    "\n",
    "# making changes to the inner sequence (deep level changes (n>1))\n",
    "i_am_slice[3]['bye']='world'\n",
    "print('\\noriginal sequence:', i_have_nested_dict, '\\nslice:', i_am_slice)\n",
    "# this should show that inner sequence (n>1) is referenced\n",
    "# for inner sequences, the slice just points to the location in the memory where the original sequence stores it\n",
    "\n",
    "#making changes to the outer sequence or the first-level-deep changes (n=1)\n",
    "i_am_slice[0]=9999999\n",
    "print('\\noriginal sequence:', i_have_nested_dict, '\\nslice:', i_am_slice)\n",
    "# this should show that the first-level-deep (n=1) sequence is copied\n",
    "# for first-level-deep sequences, the slice just copies into a different location in the memory\n",
    "\n",
    "# this is all shallow copy (in which:)!\n",
    "# changes to first-level-deep (n=1) sequence in the slice is independent of the original sequence => copied\n",
    "# changes to the inner sequences (n>1) of the slice are reflected in the original sequence => referenced\n",
    "\n",
    "# there is also deep copy:\n",
    "# any level deep elements of the sequence (n=1 and n>1) are copied and stored in separate place of memory"
   ]
  }
 ],
 "metadata": {
  "kernelspec": {
   "display_name": "Python 3 (ipykernel)",
   "language": "python",
   "name": "python3"
  },
  "language_info": {
   "codemirror_mode": {
    "name": "ipython",
    "version": 3
   },
   "file_extension": ".py",
   "mimetype": "text/x-python",
   "name": "python",
   "nbconvert_exporter": "python",
   "pygments_lexer": "ipython3",
   "version": "3.9.7"
  },
  "latex_envs": {
   "LaTeX_envs_menu_present": true,
   "autoclose": false,
   "autocomplete": true,
   "bibliofile": "biblio.bib",
   "cite_by": "apalike",
   "current_citInitial": 1,
   "eqLabelWithNumbers": true,
   "eqNumInitial": 1,
   "hotkeys": {
    "equation": "Ctrl-E",
    "itemize": "Ctrl-I"
   },
   "labels_anchors": false,
   "latex_user_defs": false,
   "report_style_numbering": false,
   "user_envs_cfg": false
  },
  "toc": {
   "base_numbering": 1,
   "nav_menu": {},
   "number_sections": true,
   "sideBar": true,
   "skip_h1_title": false,
   "title_cell": "Table of Contents",
   "title_sidebar": "Contents",
   "toc_cell": false,
   "toc_position": {},
   "toc_section_display": true,
   "toc_window_display": false
  }
 },
 "nbformat": 4,
 "nbformat_minor": 5
}
