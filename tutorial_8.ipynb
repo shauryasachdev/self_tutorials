{
 "cells": [
  {
   "cell_type": "code",
   "execution_count": 2,
   "id": "587afe8c",
   "metadata": {},
   "outputs": [],
   "source": [
    "import numpy as np\n",
    "\n",
    "%matplotlib inline\n",
    "\n",
    "import matplotlib.pyplot as plt\n",
    "\n",
    "plt.style.use('../../solving_pde_mooc/notebooks/styles/mainstyle.use')"
   ]
  },
  {
   "cell_type": "code",
   "execution_count": 3,
   "id": "8c5dd7b8",
   "metadata": {},
   "outputs": [],
   "source": [
    "a=1"
   ]
  },
  {
   "cell_type": "code",
   "execution_count": 5,
   "id": "6ec2735e",
   "metadata": {},
   "outputs": [
    {
     "name": "stdout",
     "output_type": "stream",
     "text": [
      "Initial value of b: 1\n",
      "Value of b after re-assignment: 2\n",
      "Value of a after re-assignment: 1\n"
     ]
    }
   ],
   "source": [
    "a=1\n",
    "b=a\n",
    "\n",
    "print(f'Initial value of b: {b}')\n",
    "\n",
    "b=2\n",
    "\n",
    "print(f'Value of b after re-assignment: {b}')\n",
    "print(f'Value of a after re-assignment: {a}')"
   ]
  },
  {
   "cell_type": "code",
   "execution_count": 6,
   "id": "cb1ca1fd",
   "metadata": {},
   "outputs": [
    {
     "name": "stdout",
     "output_type": "stream",
     "text": [
      "Initial value of b: [0, 1, 2, 3]\n",
      "Value of b after re-assignment: [5, 1, 2, 3]\n",
      "Value of a after re-assignment: [5, 1, 2, 3]\n"
     ]
    }
   ],
   "source": [
    "a=[0,1,2,3]\n",
    "b=a\n",
    "\n",
    "print(f'Initial value of b: {b}')\n",
    "\n",
    "b[0]=5\n",
    "\n",
    "print(f'Value of b after re-assignment: {b}')\n",
    "print(f'Value of a after re-assignment: {a}')"
   ]
  },
  {
   "cell_type": "code",
   "execution_count": 8,
   "id": "d0e13a9a",
   "metadata": {},
   "outputs": [
    {
     "name": "stdout",
     "output_type": "stream",
     "text": [
      "Initial value of b: [0, 1, 2, 3]\n",
      "Value of b after re-assignment: [5, 1, 2, 3]\n",
      "Value of a after re-assignment: [0, 1, 2, 3]\n"
     ]
    }
   ],
   "source": [
    "a=[0,1,2,3]\n",
    "b=a.copy()\n",
    "\n",
    "print(f'Initial value of b: {b}')\n",
    "\n",
    "b[0]=5\n",
    "\n",
    "print(f'Value of b after re-assignment: {b}')\n",
    "print(f'Value of a after re-assignment: {a}')"
   ]
  }
 ],
 "metadata": {
  "kernelspec": {
   "display_name": "Python 3 (ipykernel)",
   "language": "python",
   "name": "python3"
  },
  "language_info": {
   "codemirror_mode": {
    "name": "ipython",
    "version": 3
   },
   "file_extension": ".py",
   "mimetype": "text/x-python",
   "name": "python",
   "nbconvert_exporter": "python",
   "pygments_lexer": "ipython3",
   "version": "3.9.7"
  },
  "latex_envs": {
   "LaTeX_envs_menu_present": true,
   "autoclose": false,
   "autocomplete": true,
   "bibliofile": "biblio.bib",
   "cite_by": "apalike",
   "current_citInitial": 1,
   "eqLabelWithNumbers": true,
   "eqNumInitial": 1,
   "hotkeys": {
    "equation": "Ctrl-E",
    "itemize": "Ctrl-I"
   },
   "labels_anchors": false,
   "latex_user_defs": false,
   "report_style_numbering": false,
   "user_envs_cfg": false
  },
  "toc": {
   "base_numbering": 1,
   "nav_menu": {},
   "number_sections": true,
   "sideBar": true,
   "skip_h1_title": false,
   "title_cell": "Table of Contents",
   "title_sidebar": "Contents",
   "toc_cell": false,
   "toc_position": {},
   "toc_section_display": true,
   "toc_window_display": false
  }
 },
 "nbformat": 4,
 "nbformat_minor": 5
}
