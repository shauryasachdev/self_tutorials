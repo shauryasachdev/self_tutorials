{
 "cells": [
  {
   "cell_type": "code",
   "execution_count": 1,
   "id": "c834b154",
   "metadata": {},
   "outputs": [],
   "source": [
    "import matplotlib.pyplot as plt\n",
    "%matplotlib inline\n",
    "\n",
    "plt.style.use('../../solving_pde_mooc/notebooks/styles/mainstyle.use')\n",
    "\n",
    "import numpy as np"
   ]
  },
  {
   "cell_type": "code",
   "execution_count": 2,
   "id": "c4e9010b",
   "metadata": {},
   "outputs": [],
   "source": [
    "alpha = 0.25    # exponential law coefficient\n",
    "\n",
    "ti = 0.0        # initial time\n",
    "tf = 5.0        # final time\n",
    "dt = 0.1        # time step\n",
    "\n",
    "Ni = 100        # initial condition"
   ]
  },
  {
   "cell_type": "code",
   "execution_count": 3,
   "id": "55d279a3",
   "metadata": {},
   "outputs": [],
   "source": [
    "# computing no. of steps\n",
    "# no. of steps must be an integer and it can be obtained from tf - ti / dt\n",
    "# but the above formula might give float values since tf, ti and dt are float\n",
    "# therefore we need to convert it to integer using int function\n",
    "# int function converts float to integer by ignoring the decimal\n",
    "# e.g. int(5.0/2.0)=2\n",
    "nt = int((tf-ti)/dt)\n",
    "\n",
    "# now we create a numpy array for intermediate value of N including those at ti and tf\n",
    "# empty array means values in the array have not been initialized and can take any value\n",
    "# in the range allowed by numerical precision\n",
    "# initializing takes time, so unless you need an array of zeros, np.empty is better over np.zeros\n",
    "N = np.empty(nt+1)\n",
    "\n",
    "# passing the initial condition to array\n",
    "N[0] = Ni\n",
    "\n",
    "# building the array by time stepping\n",
    "# since N has nt+1 elements, we will loop index i from 0 -> nt, and define N[i+1] \n",
    "for i in range(nt):\n",
    "    N[i+1] = N[i] - alpha*N[i]*dt"
   ]
  },
  {
   "cell_type": "code",
   "execution_count": 4,
   "id": "dda38e49",
   "metadata": {},
   "outputs": [],
   "source": [
    "# to compute the exact solution, we need the time array\n",
    "\n",
    "# since nt=int(tf-ti/dt) gives no. of elements in the array as nt+1\n",
    "# and since the N(numerical) array had nt+1 elements initiliazed as N=np.empty(nt+1)\n",
    "# we need our time array to also have nt+1 elements\n",
    "# moreover, each element should be index multiplied by dt\n",
    "t = np.arange(nt+1) * dt\n",
    "\n",
    "# now we can build the exact solution\n",
    "Nexact = Ni*np.exp(-alpha*t)"
   ]
  },
  {
   "cell_type": "code",
   "execution_count": 5,
   "id": "9f65ac0d",
   "metadata": {},
   "outputs": [
    {
     "data": {
      "text/plain": [
       "<matplotlib.legend.Legend at 0x1f1b3d8fc10>"
      ]
     },
     "execution_count": 5,
     "metadata": {},
     "output_type": "execute_result"
    },
    {
     "data": {
      "image/png": "[encoded data removed]",
      "text/plain": [
       "<Figure size 432x288 with 1 Axes>"
      ]
     },
     "metadata": {
      "needs_background": "light"
     },
     "output_type": "display_data"
    }
   ],
   "source": [
    "# create a figure with a single plot\n",
    "fig, ax = plt.subplots()\n",
    "\n",
    "ax.plot(t,Nexact,linestyle='-', label='Exact Solution')\n",
    "ax.plot(t,N,'^',color='green',label='Forward Euler Method')\n",
    "\n",
    "ax.set_xlabel('$t$')\n",
    "ax.set_ylabel('$N$')\n",
    "ax.set_title('Radioactive Decay')\n",
    "\n",
    "ax.legend()\n"
   ]
  }
 ],
 "metadata": {
  "kernelspec": {
   "display_name": "Python 3 (ipykernel)",
   "language": "python",
   "name": "python3"
  },
  "language_info": {
   "codemirror_mode": {
    "name": "ipython",
    "version": 3
   },
   "file_extension": ".py",
   "mimetype": "text/x-python",
   "name": "python",
   "nbconvert_exporter": "python",
   "pygments_lexer": "ipython3",
   "version": "3.9.7"
  },
  "latex_envs": {
   "LaTeX_envs_menu_present": true,
   "autoclose": false,
   "autocomplete": true,
   "bibliofile": "biblio.bib",
   "cite_by": "apalike",
   "current_citInitial": 1,
   "eqLabelWithNumbers": true,
   "eqNumInitial": 1,
   "hotkeys": {
    "equation": "Ctrl-E",
    "itemize": "Ctrl-I"
   },
   "labels_anchors": false,
   "latex_user_defs": false,
   "report_style_numbering": false,
   "user_envs_cfg": false
  },
  "toc": {
   "base_numbering": 1,
   "nav_menu": {},
   "number_sections": true,
   "sideBar": true,
   "skip_h1_title": false,
   "title_cell": "Table of Contents",
   "title_sidebar": "Contents",
   "toc_cell": false,
   "toc_position": {},
   "toc_section_display": true,
   "toc_window_display": false
  }
 },
 "nbformat": 4,
 "nbformat_minor": 5
}
