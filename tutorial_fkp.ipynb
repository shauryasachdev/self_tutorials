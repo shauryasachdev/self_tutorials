{
 "cells": [
  {
   "cell_type": "code",
   "execution_count": 1,
   "id": "089ccad9",
   "metadata": {},
   "outputs": [],
   "source": [
    "import numpy as np\n",
    "np.seterr(divide='ignore', invalid='ignore')\n",
    "%matplotlib inline\n",
    "\n",
    "import matplotlib.pyplot as plt\n",
    "\n",
    "plt.style.use('../../solving_pde_mooc/notebooks/styles/mainstyle.use')"
   ]
  },
  {
   "cell_type": "code",
   "execution_count": 16,
   "id": "e4422925",
   "metadata": {},
   "outputs": [],
   "source": [
    "# Defining Parameters\n",
    "\n",
    "D = 10**(-8)   # cm2/s\n",
    "v = 0.      # cm/s\n",
    "\n",
    "pi = np.pi     # defining pi"
   ]
  },
  {
   "cell_type": "code",
   "execution_count": 17,
   "id": "012a333a",
   "metadata": {},
   "outputs": [
    {
     "name": "stdout",
     "output_type": "stream",
     "text": [
      "0.0\n",
      "100.0\n",
      "10001\n"
     ]
    }
   ],
   "source": [
    "# defining time domain and discretization\n",
    "ti = 0.\n",
    "tf = 100.\n",
    "dt = 0.01\n",
    "\n",
    "nt = int((tf-ti)/dt)\n",
    "\n",
    "t = np.empty(nt+1)\n",
    "\n",
    "for k in range(nt+1):\n",
    "    t[k] = ti + k*dt\n",
    "\n",
    "#t = np.arange(nt+1)*dt\n",
    "\n",
    "print(t[0])\n",
    "print(t[-1])\n",
    "print(len(t))"
   ]
  },
  {
   "cell_type": "code",
   "execution_count": 18,
   "id": "fbdd6a0e",
   "metadata": {},
   "outputs": [
    {
     "name": "stdout",
     "output_type": "stream",
     "text": [
      "-0.1\n",
      "0.1\n",
      "2001\n"
     ]
    }
   ],
   "source": [
    "# defining space domain and discretization\n",
    "\n",
    "xi = -0.1\n",
    "xf = 0.1\n",
    "dx = 0.0001\n",
    "\n",
    "nx = int((xf-xi)/dx)\n",
    "\n",
    "x = np.empty(nx+1)\n",
    "\n",
    "for k in range(nx+1):\n",
    "    x[k] = xi + k*dx\n",
    "\n",
    "print(x[0])\n",
    "print(x[-1])\n",
    "print(len(x))"
   ]
  },
  {
   "cell_type": "code",
   "execution_count": 21,
   "id": "20b0b919",
   "metadata": {},
   "outputs": [
    {
     "name": "stdout",
     "output_type": "stream",
     "text": [
      "2001\n",
      "10001\n",
      "-0.1\n"
     ]
    }
   ],
   "source": [
    "# defining probability\n",
    "\n",
    "pxt_a = np.empty((nx+1,nt+1))\n",
    "pxt_b = np.empty((nx+1,nt+1))\n",
    "pxt = np.empty((nx+1,nt+1))\n",
    "\n",
    "for k in range(nt+1):\n",
    "    #for j in range(nx+1):\n",
    "    #pxt_a[:,k] = (1/np.sqrt(4*pi*D*t[k]))\n",
    "    #pxt_b[:,k]= np.exp((-1/4)*((x**2)/(4*D*t[i])))\n",
    "    pxt[:,k]= (1/np.sqrt(4*pi*D*t[k]))*(np.exp(((-x**2)/(4*D*t[k]))))\n",
    "\n",
    "print(len(pxt[:,1]),len(pxt[1,:]),sep='\\n')\n",
    "print(x[0])"
   ]
  },
  {
   "cell_type": "code",
   "execution_count": 25,
   "id": "e2d397d5",
   "metadata": {},
   "outputs": [
    {
     "name": "stdout",
     "output_type": "stream",
     "text": [
      "16286.750396763997\n"
     ]
    },
    {
     "data": {
      "image/png": "[encoded data removed]",
      "text/plain": [
       "<Figure size 576x432 with 1 Axes>"
      ]
     },
     "metadata": {
      "needs_background": "light"
     },
     "output_type": "display_data"
    }
   ],
   "source": [
    "fig, ax = plt.subplots(figsize=(8,6))\n",
    "\n",
    "ax.plot(x,pxt[:,1000],color='green',label='10s')\n",
    "ax.plot(x,pxt[:,3000],color='red',label='30s')\n",
    "\n",
    "ax.set_xlim(-0.003,0.003)\n",
    "ax.set_ylim(0,1200)\n",
    "ax.legend()\n",
    "\n",
    "ax.set_xlabel('$x$')\n",
    "ax.set_ylabel('$p(x,t)$')\n",
    "ax.set_title('FKP')\n",
    "\n",
    "print(pxt[1000,3])"
   ]
  },
  {
   "cell_type": "code",
   "execution_count": 28,
   "id": "8744ca4f",
   "metadata": {},
   "outputs": [
    {
     "name": "stdout",
     "output_type": "stream",
     "text": [
      "892.0620580763856\n"
     ]
    }
   ],
   "source": [
    "print(1/np.sqrt(4*pi*D*10))"
   ]
  }
 ],
 "metadata": {
  "kernelspec": {
   "display_name": "Python 3 (ipykernel)",
   "language": "python",
   "name": "python3"
  },
  "language_info": {
   "codemirror_mode": {
    "name": "ipython",
    "version": 3
   },
   "file_extension": ".py",
   "mimetype": "text/x-python",
   "name": "python",
   "nbconvert_exporter": "python",
   "pygments_lexer": "ipython3",
   "version": "3.9.7"
  },
  "latex_envs": {
   "LaTeX_envs_menu_present": true,
   "autoclose": false,
   "autocomplete": true,
   "bibliofile": "biblio.bib",
   "cite_by": "apalike",
   "current_citInitial": 1,
   "eqLabelWithNumbers": true,
   "eqNumInitial": 1,
   "hotkeys": {
    "equation": "Ctrl-E",
    "itemize": "Ctrl-I"
   },
   "labels_anchors": false,
   "latex_user_defs": false,
   "report_style_numbering": false,
   "user_envs_cfg": false
  },
  "toc": {
   "base_numbering": 1,
   "nav_menu": {},
   "number_sections": true,
   "sideBar": true,
   "skip_h1_title": false,
   "title_cell": "Table of Contents",
   "title_sidebar": "Contents",
   "toc_cell": false,
   "toc_position": {},
   "toc_section_display": true,
   "toc_window_display": false
  }
 },
 "nbformat": 4,
 "nbformat_minor": 5
}
